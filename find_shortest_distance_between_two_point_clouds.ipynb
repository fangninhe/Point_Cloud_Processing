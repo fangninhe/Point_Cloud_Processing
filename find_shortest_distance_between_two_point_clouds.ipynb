{
 "cells": [
  {
   "cell_type": "markdown",
   "metadata": {},
   "source": [
    "## Overview\n",
    "In this notebook, a new iterative approach was proposed for finding the shortest Euclidean distance between two <font color='red'>non-overlapping</font> point clouds.  \n",
    "Basic idea:\n",
    "1. Pick up a point A from the 1st point cloud\n",
    "2. Find the closest point of A in the 2nd point cloud, which is denoted as B\n",
    "3. Find the closest point of B in the 1st point cloud, which is denoted as A'\n",
    "4. If A == A', the shortest distance between the two point clouds is defined by the vector connecting A to B.\n",
    "5. If A != A', repeat the process of step 1 to 3\n",
    "\n",
    "Compared to the exhaustive search using kd-tree, the new approach ~ 5 to 10 times faster..."
   ]
  },
  {
   "cell_type": "code",
   "execution_count": 12,
   "metadata": {
    "collapsed": true
   },
   "outputs": [],
   "source": [
    "import time\n",
    "\n",
    "from scipy import spatial\n",
    "\n",
    "import numpy as np\n",
    "import matplotlib.pyplot as plt"
   ]
  },
  {
   "cell_type": "code",
   "execution_count": 13,
   "metadata": {
    "collapsed": true
   },
   "outputs": [],
   "source": [
    "def find_shortest_distance(reference_points, query_points, method='new'):\n",
    "    \"\"\"\n",
    "    Finds the shortest Euclidean distance between the reference and query point clouds\n",
    "    \n",
    "    Arguments:\n",
    "    reference_points -- n x m array for reference point cloud to be compared with\n",
    "    query_points -- n x m array for the query point cloud\n",
    "    method -- 'new' or 'exhaustive' search\n",
    "    \n",
    "    Note:\n",
    "    n is the number of points, and m defines the dimensionality of the point.\n",
    "    \"\"\"\n",
    "    # The two point clouds cannot be empty\n",
    "    if (reference_points.shape[0] == 0) or (query_points.shape[0] == 0):\n",
    "        raise Exception(\"The input point clouds cannot be empty!\")\n",
    "    \n",
    "    # Build kd-tree for query_points\n",
    "    \n",
    "    query_kd_tree = spatial.KDTree(query_points)\n",
    "    \n",
    "    if method == 'new':\n",
    "        # Build kd-tree for reference_points\n",
    "        reference_kd_tree = spatial.KDTree(reference_points)\n",
    "        # Start from the first point in reference_points\n",
    "        reference_indices = [0]\n",
    "        query_indices = []\n",
    "        while 1:\n",
    "            # Find closest point of the reference point in the query point cloud\n",
    "            reference_point = reference_points[reference_indices[-1]] \n",
    "            query_d, query_index = query_kd_tree.query(reference_point, k=1)\n",
    "            query_indices.append(query_index)\n",
    "            # Find closest point of the query point in the the reference point cloud\n",
    "            query_point = query_points[query_indices[-1]]\n",
    "            reference_d, reference_index = reference_kd_tree.query(query_point, k=1)\n",
    "            # Break if we can't find a new point with shorter distance in reference point cloud\n",
    "            if (reference_index == reference_indices[-1]):\n",
    "                break\n",
    "            else:\n",
    "                reference_indices.append(reference_index)\n",
    "        # Return shortest distance, reference_indices, and query_indices\n",
    "        d = np.linalg.norm(reference_points[reference_indices[-1]] - query_points[query_indices[-1]])\n",
    "        return d, reference_indices, query_indices\n",
    "    elif method == 'exhaustive':\n",
    "        distances, indices = query_kd_tree.query(reference_points)\n",
    "        return np.amin(distances)\n",
    "    else:\n",
    "        raise Exception(\"The selected method is incorrect! Only 'new' or 'exhaustive' method can be used.\")"
   ]
  },
  {
   "cell_type": "markdown",
   "metadata": {},
   "source": [
    "## Verification\n",
    "The proposed approach is verified on simulated point clouds, which are generated on multivariate normal distributions with the specified mean and variance-covariance matrix."
   ]
  },
  {
   "cell_type": "code",
   "execution_count": 20,
   "metadata": {
    "collapsed": true
   },
   "outputs": [],
   "source": [
    "def generate_random_point_cloud(number_of_points, mean, cov):\n",
    "    \"\"\"\n",
    "    This function generates a set of random points with a multivariate normal distribution (mean, cov)\n",
    "    Arguments:\n",
    "    number_of_points -- number of points to be generated\n",
    "    mean -- mean for the multivariate normal distribution\n",
    "    cov -- variance-covariance matrix for the multivariate normal distribution\n",
    "    \"\"\"\n",
    "    assert mean.shape[0] == cov.shape[0] and mean.shape[0] == cov.shape[1]\n",
    "    dim = mean.shape[0]\n",
    "    points = np.random.multivariate_normal(mean, cov, number_of_points).reshape(number_of_points, dim)\n",
    "    return points"
   ]
  },
  {
   "cell_type": "code",
   "execution_count": 21,
   "metadata": {
    "collapsed": true
   },
   "outputs": [],
   "source": [
    "# Prepare reference point cloud\n",
    "number_of_reference_points = 200\n",
    "reference_mean = np.asarray([0, 0])\n",
    "reference_cov = np.asarray([[3, 0],\n",
    "                            [0, 3]])\n",
    "reference_points = generate_random_point_cloud(number_of_reference_points, reference_mean, reference_cov)\n",
    "\n",
    "# Prepare query point cloud\n",
    "number_of_query_points = 100\n",
    "query_mean = np.asarray([8, 8])\n",
    "query_cov = np.asarray([[2, 0],\n",
    "                        [0, 2]])\n",
    "query_points = generate_random_point_cloud(number_of_query_points, query_mean, query_cov)           "
   ]
  },
  {
   "cell_type": "code",
   "execution_count": 22,
   "metadata": {},
   "outputs": [
    {
     "data": {
      "image/png": "[encoded data removed]",
      "text/plain": [
       "<matplotlib.figure.Figure at 0x10e2a3240>"
      ]
     },
     "metadata": {},
     "output_type": "display_data"
    }
   ],
   "source": [
    "# Show the two point clouds\n",
    "plt.plot(reference_points[:, 0], reference_points[:, 1],'r+')\n",
    "plt.plot(query_points[:,0], query_points[:, 1],'b+')\n",
    "plt.show()"
   ]
  },
  {
   "cell_type": "code",
   "execution_count": 23,
   "metadata": {},
   "outputs": [
    {
     "name": "stdout",
     "output_type": "stream",
     "text": [
      "process_time: 0.006232000000000237\n",
      "4.243346781007501 4.243346781007501\n"
     ]
    }
   ],
   "source": [
    "# Find the shortest distance using the proposed method\n",
    "start_time = time.clock()\n",
    "d1, reference_indices1, query_indices1 = find_shortest_distance(reference_points, query_points)\n",
    "end_time = time.clock()\n",
    "print(\"process_time: \" + str(end_time - start_time))\n",
    "\n",
    "d2, reference_idncies2, query_indices2 = find_shortest_distance(query_points, reference_points)\n",
    "# Swap query and reference point clouds, the shortest distance should be the same\n",
    "print(d1, d2)"
   ]
  },
  {
   "cell_type": "code",
   "execution_count": 24,
   "metadata": {},
   "outputs": [
    {
     "data": {
      "image/png": "[encoded data removed]",
      "text/plain": [
       "<matplotlib.figure.Figure at 0x614e5d7f0>"
      ]
     },
     "metadata": {},
     "output_type": "display_data"
    }
   ],
   "source": [
    "# Show the search path\n",
    "def show_search_path(reference_points, reference_indices,\n",
    "                     query_points, query_indices):\n",
    "    x = []\n",
    "    y = []\n",
    "    for i in range(len(reference_indices)-1):\n",
    "        # from ref to query\n",
    "        x.append(reference_points[reference_indices[i]][0])\n",
    "        y.append(reference_points[reference_indices[i]][1])\n",
    "        x.append(query_points[query_indices[i]][0])\n",
    "        y.append(query_points[query_indices[i]][1])\n",
    "        # from query to ref\n",
    "        x.append(query_points[query_indices[i+1]][0])\n",
    "        y.append(query_points[query_indices[i+1]][1])\n",
    "        x.append(reference_points[reference_indices[i+1]][0])\n",
    "        y.append(reference_points[reference_indices[i+1]][1])\n",
    "    plt.plot(reference_points[:, 0], reference_points[:, 1],'r+')\n",
    "    plt.plot(query_points[:,0], query_points[:, 1],'b+')\n",
    "    plt.plot(x, y)\n",
    "    plt.show()\n",
    "\n",
    "show_search_path(reference_points, reference_indices1, query_points, query_indices1)"
   ]
  },
  {
   "cell_type": "code",
   "execution_count": 25,
   "metadata": {},
   "outputs": [
    {
     "name": "stdout",
     "output_type": "stream",
     "text": [
      "process_time: 0.024506999999999834\n",
      "4.243346781007501\n"
     ]
    }
   ],
   "source": [
    "# Find the shortest distance using the exhaustive search\n",
    "start_time = time.clock()\n",
    "d_exhaustive = find_shortest_distance(reference_points, query_points, 'exhaustive')\n",
    "end_time = time.clock()\n",
    "print(\"process_time: \" + str(end_time - start_time))\n",
    "print(d_exhaustive)"
   ]
  },
  {
   "cell_type": "code",
   "execution_count": null,
   "metadata": {
    "collapsed": true
   },
   "outputs": [],
   "source": []
  }
 ],
 "metadata": {
  "kernelspec": {
   "display_name": "Python 3",
   "language": "python",
   "name": "python3"
  },
  "language_info": {
   "codemirror_mode": {
    "name": "ipython",
    "version": 3
   },
   "file_extension": ".py",
   "mimetype": "text/x-python",
   "name": "python",
   "nbconvert_exporter": "python",
   "pygments_lexer": "ipython3",
   "version": "3.6.3"
  }
 },
 "nbformat": 4,
 "nbformat_minor": 2
}
